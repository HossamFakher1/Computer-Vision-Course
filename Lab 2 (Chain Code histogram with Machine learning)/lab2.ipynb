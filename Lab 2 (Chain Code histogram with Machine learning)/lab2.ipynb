{
 "cells": [
  {
   "cell_type": "code",
   "execution_count": 1,
   "id": "ae1d774f",
   "metadata": {},
   "outputs": [],
   "source": [
    "import cv2\n",
    "import matplotlib.pyplot as plt\n",
    "%matplotlib inline"
   ]
  },
  {
   "cell_type": "markdown",
   "id": "e94e1676",
   "metadata": {},
   "source": [
    "# Helper functions\n",
    "\n",
    "- `imread`: Read an image from `img_path` and convert it to RGB\n",
    "- `imshow`: Display the given `img` (`figsize` is optional figure size)\n",
    "- `rgb2bin`: Convert the given RGB image `img_rgb` to binary\n",
    "- `find_best_contour`: Find and return the largest contour in the image"
   ]
  },
  {
   "cell_type": "code",
   "execution_count": 2,
   "id": "13067030",
   "metadata": {},
   "outputs": [],
   "source": [
    "def imread(img_path):\n",
    "    img = cv2.imread(img_path)\n",
    "    img = cv2.cvtColor(img, cv2.COLOR_BGR2RGB)\n",
    "    return img\n",
    "\n",
    "def imshow(img, figsize=(5, 5)):\n",
    "    plt.figure(figsize=figsize)\n",
    "    plt.imshow(img, cmap='gray')\n",
    "    plt.show()\n",
    "    \n",
    "def rgb2bin(img_rgb):\n",
    "    img_gray = cv2.cvtColor(img_rgb, cv2.COLOR_RGB2GRAY)\n",
    "    t, img_bin = cv2.threshold(\n",
    "        img_gray, 0, 255, cv2.THRESH_OTSU|cv2.THRESH_BINARY_INV\n",
    "    )\n",
    "    return img_bin\n",
    "\n",
    "def find_best_contour(img_rgb):\n",
    "    img_bin = rgb2bin(img_rgb)\n",
    "    contours, h = cv2.findContours(\n",
    "        img_bin, cv2.RETR_EXTERNAL, cv2.CHAIN_APPROX_NONE\n",
    "    )\n",
    "    best_contour = max(contours, key=cv2.contourArea)\n",
    "    return best_contour\n",
    "\n",
    "def draw_contours(img, contours, index=-1, color=(255, 0, 0), thickness=2):\n",
    "    img_copy = img.copy()\n",
    "    cv2.drawContours(img_copy, contours, index, color, thickness)\n",
    "    imshow(img_copy)"
   ]
  },
  {
   "cell_type": "code",
   "execution_count": 3,
   "id": "f05a7101",
   "metadata": {},
   "outputs": [
    {
     "data": {
      "image/png": "[encoded data removed]",
      "text/plain": [
       "<Figure size 360x360 with 1 Axes>"
      ]
     },
     "metadata": {
      "needs_background": "light"
     },
     "output_type": "display_data"
    }
   ],
   "source": [
    "img = imread('images/triangle-hollow.png')\n",
    "imshow(img)"
   ]
  },
  {
   "cell_type": "code",
   "execution_count": 4,
   "id": "40842ccf",
   "metadata": {},
   "outputs": [
    {
     "data": {
      "image/png": "[encoded data removed]",
      "text/plain": [
       "<Figure size 360x360 with 1 Axes>"
      ]
     },
     "metadata": {
      "needs_background": "light"
     },
     "output_type": "display_data"
    }
   ],
   "source": [
    "best_contour = find_best_contour(img)\n",
    "draw_contours(img, best_contour)"
   ]
  },
  {
   "cell_type": "markdown",
   "id": "014ae5f5",
   "metadata": {},
   "source": [
    "# Chain code histogram\n",
    "\n",
    "We loop through the best contour points to generate chain code like the following image. We find the chain code by calculating the difference in x (`dx`) and difference in y (`dy`) between each point and the next point.\n",
    "\n",
    "<img src=\"images/chain-codes-diagram.png\" alt=\"chian codes diagram\" width=\"400\"/>\n"
   ]
  },
  {
   "cell_type": "code",
   "execution_count": 5,
   "id": "01ce10d4",
   "metadata": {},
   "outputs": [
    {
     "data": {
      "text/plain": [
       "array([[[ 81,  18]],\n",
       "\n",
       "       [[ 80,  19]],\n",
       "\n",
       "       [[ 80,  20]],\n",
       "\n",
       "       [[ 79,  21]],\n",
       "\n",
       "       [[ 78,  22]],\n",
       "\n",
       "       [[ 78,  23]],\n",
       "\n",
       "       [[ 77,  24]],\n",
       "\n",
       "       [[ 77,  25]],\n",
       "\n",
       "       [[ 76,  26]],\n",
       "\n",
       "       [[ 76,  27]],\n",
       "\n",
       "       [[ 75,  28]],\n",
       "\n",
       "       [[ 74,  29]],\n",
       "\n",
       "       [[ 74,  30]],\n",
       "\n",
       "       [[ 73,  31]],\n",
       "\n",
       "       [[ 73,  32]],\n",
       "\n",
       "       [[ 72,  33]],\n",
       "\n",
       "       [[ 71,  34]],\n",
       "\n",
       "       [[ 71,  35]],\n",
       "\n",
       "       [[ 70,  36]],\n",
       "\n",
       "       [[ 70,  37]],\n",
       "\n",
       "       [[ 69,  38]],\n",
       "\n",
       "       [[ 69,  39]],\n",
       "\n",
       "       [[ 68,  40]],\n",
       "\n",
       "       [[ 67,  41]],\n",
       "\n",
       "       [[ 67,  42]],\n",
       "\n",
       "       [[ 66,  43]],\n",
       "\n",
       "       [[ 66,  44]],\n",
       "\n",
       "       [[ 65,  45]],\n",
       "\n",
       "       [[ 65,  46]],\n",
       "\n",
       "       [[ 64,  47]],\n",
       "\n",
       "       [[ 63,  48]],\n",
       "\n",
       "       [[ 63,  49]],\n",
       "\n",
       "       [[ 62,  50]],\n",
       "\n",
       "       [[ 62,  51]],\n",
       "\n",
       "       [[ 61,  52]],\n",
       "\n",
       "       [[ 60,  53]],\n",
       "\n",
       "       [[ 60,  54]],\n",
       "\n",
       "       [[ 59,  55]],\n",
       "\n",
       "       [[ 59,  56]],\n",
       "\n",
       "       [[ 58,  57]],\n",
       "\n",
       "       [[ 58,  58]],\n",
       "\n",
       "       [[ 57,  59]],\n",
       "\n",
       "       [[ 56,  60]],\n",
       "\n",
       "       [[ 56,  61]],\n",
       "\n",
       "       [[ 55,  62]],\n",
       "\n",
       "       [[ 55,  63]],\n",
       "\n",
       "       [[ 54,  64]],\n",
       "\n",
       "       [[ 53,  65]],\n",
       "\n",
       "       [[ 53,  66]],\n",
       "\n",
       "       [[ 52,  67]],\n",
       "\n",
       "       [[ 52,  68]],\n",
       "\n",
       "       [[ 51,  69]],\n",
       "\n",
       "       [[ 51,  70]],\n",
       "\n",
       "       [[ 50,  71]],\n",
       "\n",
       "       [[ 49,  72]],\n",
       "\n",
       "       [[ 49,  73]],\n",
       "\n",
       "       [[ 48,  74]],\n",
       "\n",
       "       [[ 48,  75]],\n",
       "\n",
       "       [[ 47,  76]],\n",
       "\n",
       "       [[ 46,  77]],\n",
       "\n",
       "       [[ 46,  78]],\n",
       "\n",
       "       [[ 45,  79]],\n",
       "\n",
       "       [[ 45,  80]],\n",
       "\n",
       "       [[ 44,  81]],\n",
       "\n",
       "       [[ 44,  82]],\n",
       "\n",
       "       [[ 43,  83]],\n",
       "\n",
       "       [[ 42,  84]],\n",
       "\n",
       "       [[ 42,  85]],\n",
       "\n",
       "       [[ 41,  86]],\n",
       "\n",
       "       [[ 41,  87]],\n",
       "\n",
       "       [[ 40,  88]],\n",
       "\n",
       "       [[ 39,  89]],\n",
       "\n",
       "       [[ 39,  90]],\n",
       "\n",
       "       [[ 38,  91]],\n",
       "\n",
       "       [[ 38,  92]],\n",
       "\n",
       "       [[ 37,  93]],\n",
       "\n",
       "       [[ 37,  94]],\n",
       "\n",
       "       [[ 36,  95]],\n",
       "\n",
       "       [[ 35,  96]],\n",
       "\n",
       "       [[ 35,  97]],\n",
       "\n",
       "       [[ 34,  98]],\n",
       "\n",
       "       [[ 34,  99]],\n",
       "\n",
       "       [[ 33, 100]],\n",
       "\n",
       "       [[ 32, 101]],\n",
       "\n",
       "       [[ 32, 102]],\n",
       "\n",
       "       [[ 31, 103]],\n",
       "\n",
       "       [[ 31, 104]],\n",
       "\n",
       "       [[ 30, 105]],\n",
       "\n",
       "       [[ 30, 106]],\n",
       "\n",
       "       [[ 29, 107]],\n",
       "\n",
       "       [[ 28, 108]],\n",
       "\n",
       "       [[ 28, 109]],\n",
       "\n",
       "       [[ 27, 110]],\n",
       "\n",
       "       [[ 27, 111]],\n",
       "\n",
       "       [[ 27, 112]],\n",
       "\n",
       "       [[ 28, 113]],\n",
       "\n",
       "       [[ 29, 113]],\n",
       "\n",
       "       [[ 30, 113]],\n",
       "\n",
       "       [[ 31, 113]],\n",
       "\n",
       "       [[ 32, 113]],\n",
       "\n",
       "       [[ 33, 113]],\n",
       "\n",
       "       [[ 34, 113]],\n",
       "\n",
       "       [[ 35, 113]],\n",
       "\n",
       "       [[ 36, 113]],\n",
       "\n",
       "       [[ 37, 113]],\n",
       "\n",
       "       [[ 38, 113]],\n",
       "\n",
       "       [[ 39, 113]],\n",
       "\n",
       "       [[ 40, 113]],\n",
       "\n",
       "       [[ 41, 113]],\n",
       "\n",
       "       [[ 42, 113]],\n",
       "\n",
       "       [[ 43, 113]],\n",
       "\n",
       "       [[ 44, 113]],\n",
       "\n",
       "       [[ 45, 113]],\n",
       "\n",
       "       [[ 46, 113]],\n",
       "\n",
       "       [[ 47, 113]],\n",
       "\n",
       "       [[ 48, 113]],\n",
       "\n",
       "       [[ 49, 113]],\n",
       "\n",
       "       [[ 50, 113]],\n",
       "\n",
       "       [[ 51, 113]],\n",
       "\n",
       "       [[ 52, 113]],\n",
       "\n",
       "       [[ 53, 113]],\n",
       "\n",
       "       [[ 54, 113]],\n",
       "\n",
       "       [[ 55, 113]],\n",
       "\n",
       "       [[ 56, 113]],\n",
       "\n",
       "       [[ 57, 113]],\n",
       "\n",
       "       [[ 58, 113]],\n",
       "\n",
       "       [[ 59, 113]],\n",
       "\n",
       "       [[ 60, 113]],\n",
       "\n",
       "       [[ 61, 113]],\n",
       "\n",
       "       [[ 62, 113]],\n",
       "\n",
       "       [[ 63, 113]],\n",
       "\n",
       "       [[ 64, 113]],\n",
       "\n",
       "       [[ 65, 113]],\n",
       "\n",
       "       [[ 66, 113]],\n",
       "\n",
       "       [[ 67, 113]],\n",
       "\n",
       "       [[ 68, 113]],\n",
       "\n",
       "       [[ 69, 113]],\n",
       "\n",
       "       [[ 70, 113]],\n",
       "\n",
       "       [[ 71, 113]],\n",
       "\n",
       "       [[ 72, 113]],\n",
       "\n",
       "       [[ 73, 113]],\n",
       "\n",
       "       [[ 74, 113]],\n",
       "\n",
       "       [[ 75, 113]],\n",
       "\n",
       "       [[ 76, 113]],\n",
       "\n",
       "       [[ 77, 113]],\n",
       "\n",
       "       [[ 78, 113]],\n",
       "\n",
       "       [[ 79, 113]],\n",
       "\n",
       "       [[ 80, 113]],\n",
       "\n",
       "       [[ 81, 113]],\n",
       "\n",
       "       [[ 82, 113]],\n",
       "\n",
       "       [[ 83, 113]],\n",
       "\n",
       "       [[ 84, 113]],\n",
       "\n",
       "       [[ 85, 113]],\n",
       "\n",
       "       [[ 86, 113]],\n",
       "\n",
       "       [[ 87, 113]],\n",
       "\n",
       "       [[ 88, 113]],\n",
       "\n",
       "       [[ 89, 113]],\n",
       "\n",
       "       [[ 90, 113]],\n",
       "\n",
       "       [[ 91, 113]],\n",
       "\n",
       "       [[ 92, 113]],\n",
       "\n",
       "       [[ 93, 113]],\n",
       "\n",
       "       [[ 94, 113]],\n",
       "\n",
       "       [[ 95, 113]],\n",
       "\n",
       "       [[ 96, 113]],\n",
       "\n",
       "       [[ 97, 113]],\n",
       "\n",
       "       [[ 98, 113]],\n",
       "\n",
       "       [[ 99, 113]],\n",
       "\n",
       "       [[100, 113]],\n",
       "\n",
       "       [[101, 113]],\n",
       "\n",
       "       [[102, 113]],\n",
       "\n",
       "       [[103, 113]],\n",
       "\n",
       "       [[104, 113]],\n",
       "\n",
       "       [[105, 113]],\n",
       "\n",
       "       [[106, 113]],\n",
       "\n",
       "       [[107, 113]],\n",
       "\n",
       "       [[108, 113]],\n",
       "\n",
       "       [[109, 113]],\n",
       "\n",
       "       [[110, 113]],\n",
       "\n",
       "       [[111, 113]],\n",
       "\n",
       "       [[112, 113]],\n",
       "\n",
       "       [[113, 113]],\n",
       "\n",
       "       [[114, 113]],\n",
       "\n",
       "       [[115, 113]],\n",
       "\n",
       "       [[116, 113]],\n",
       "\n",
       "       [[117, 113]],\n",
       "\n",
       "       [[118, 113]],\n",
       "\n",
       "       [[119, 113]],\n",
       "\n",
       "       [[120, 113]],\n",
       "\n",
       "       [[121, 113]],\n",
       "\n",
       "       [[122, 113]],\n",
       "\n",
       "       [[123, 113]],\n",
       "\n",
       "       [[124, 113]],\n",
       "\n",
       "       [[125, 113]],\n",
       "\n",
       "       [[126, 113]],\n",
       "\n",
       "       [[127, 113]],\n",
       "\n",
       "       [[128, 113]],\n",
       "\n",
       "       [[129, 113]],\n",
       "\n",
       "       [[130, 113]],\n",
       "\n",
       "       [[131, 113]],\n",
       "\n",
       "       [[132, 113]],\n",
       "\n",
       "       [[133, 113]],\n",
       "\n",
       "       [[134, 113]],\n",
       "\n",
       "       [[135, 113]],\n",
       "\n",
       "       [[136, 112]],\n",
       "\n",
       "       [[136, 111]],\n",
       "\n",
       "       [[136, 110]],\n",
       "\n",
       "       [[135, 109]],\n",
       "\n",
       "       [[135, 108]],\n",
       "\n",
       "       [[134, 107]],\n",
       "\n",
       "       [[134, 106]],\n",
       "\n",
       "       [[133, 105]],\n",
       "\n",
       "       [[132, 104]],\n",
       "\n",
       "       [[132, 103]],\n",
       "\n",
       "       [[131, 102]],\n",
       "\n",
       "       [[131, 101]],\n",
       "\n",
       "       [[130, 100]],\n",
       "\n",
       "       [[130,  99]],\n",
       "\n",
       "       [[129,  98]],\n",
       "\n",
       "       [[128,  97]],\n",
       "\n",
       "       [[128,  96]],\n",
       "\n",
       "       [[127,  95]],\n",
       "\n",
       "       [[127,  94]],\n",
       "\n",
       "       [[126,  93]],\n",
       "\n",
       "       [[126,  92]],\n",
       "\n",
       "       [[125,  91]],\n",
       "\n",
       "       [[124,  90]],\n",
       "\n",
       "       [[124,  89]],\n",
       "\n",
       "       [[123,  88]],\n",
       "\n",
       "       [[123,  87]],\n",
       "\n",
       "       [[122,  86]],\n",
       "\n",
       "       [[122,  85]],\n",
       "\n",
       "       [[121,  84]],\n",
       "\n",
       "       [[120,  83]],\n",
       "\n",
       "       [[120,  82]],\n",
       "\n",
       "       [[119,  81]],\n",
       "\n",
       "       [[119,  80]],\n",
       "\n",
       "       [[118,  79]],\n",
       "\n",
       "       [[118,  78]],\n",
       "\n",
       "       [[117,  77]],\n",
       "\n",
       "       [[116,  76]],\n",
       "\n",
       "       [[116,  75]],\n",
       "\n",
       "       [[115,  74]],\n",
       "\n",
       "       [[115,  73]],\n",
       "\n",
       "       [[114,  72]],\n",
       "\n",
       "       [[114,  71]],\n",
       "\n",
       "       [[113,  70]],\n",
       "\n",
       "       [[112,  69]],\n",
       "\n",
       "       [[112,  68]],\n",
       "\n",
       "       [[111,  67]],\n",
       "\n",
       "       [[111,  66]],\n",
       "\n",
       "       [[110,  65]],\n",
       "\n",
       "       [[110,  64]],\n",
       "\n",
       "       [[109,  63]],\n",
       "\n",
       "       [[108,  62]],\n",
       "\n",
       "       [[108,  61]],\n",
       "\n",
       "       [[107,  60]],\n",
       "\n",
       "       [[107,  59]],\n",
       "\n",
       "       [[106,  58]],\n",
       "\n",
       "       [[106,  57]],\n",
       "\n",
       "       [[105,  56]],\n",
       "\n",
       "       [[104,  55]],\n",
       "\n",
       "       [[104,  54]],\n",
       "\n",
       "       [[103,  53]],\n",
       "\n",
       "       [[103,  52]],\n",
       "\n",
       "       [[102,  51]],\n",
       "\n",
       "       [[102,  50]],\n",
       "\n",
       "       [[101,  49]],\n",
       "\n",
       "       [[100,  48]],\n",
       "\n",
       "       [[100,  47]],\n",
       "\n",
       "       [[ 99,  46]],\n",
       "\n",
       "       [[ 99,  45]],\n",
       "\n",
       "       [[ 98,  44]],\n",
       "\n",
       "       [[ 98,  43]],\n",
       "\n",
       "       [[ 97,  42]],\n",
       "\n",
       "       [[ 96,  41]],\n",
       "\n",
       "       [[ 96,  40]],\n",
       "\n",
       "       [[ 95,  39]],\n",
       "\n",
       "       [[ 95,  38]],\n",
       "\n",
       "       [[ 94,  37]],\n",
       "\n",
       "       [[ 94,  36]],\n",
       "\n",
       "       [[ 93,  35]],\n",
       "\n",
       "       [[ 92,  34]],\n",
       "\n",
       "       [[ 92,  33]],\n",
       "\n",
       "       [[ 91,  32]],\n",
       "\n",
       "       [[ 91,  31]],\n",
       "\n",
       "       [[ 90,  30]],\n",
       "\n",
       "       [[ 90,  29]],\n",
       "\n",
       "       [[ 89,  28]],\n",
       "\n",
       "       [[ 88,  27]],\n",
       "\n",
       "       [[ 88,  26]],\n",
       "\n",
       "       [[ 87,  25]],\n",
       "\n",
       "       [[ 87,  24]],\n",
       "\n",
       "       [[ 86,  23]],\n",
       "\n",
       "       [[ 86,  22]],\n",
       "\n",
       "       [[ 85,  21]],\n",
       "\n",
       "       [[ 84,  20]],\n",
       "\n",
       "       [[ 84,  19]],\n",
       "\n",
       "       [[ 83,  18]],\n",
       "\n",
       "       [[ 82,  18]]], dtype=int32)"
      ]
     },
     "execution_count": 5,
     "metadata": {},
     "output_type": "execute_result"
    }
   ],
   "source": [
    "best_contour"
   ]
  },
  {
   "cell_type": "code",
   "execution_count": 6,
   "id": "e98771a0",
   "metadata": {},
   "outputs": [
    {
     "data": {
      "text/plain": [
       "(299, 1, 2)"
      ]
     },
     "execution_count": 6,
     "metadata": {},
     "output_type": "execute_result"
    }
   ],
   "source": [
    "best_contour.shape"
   ]
  },
  {
   "cell_type": "code",
   "execution_count": 7,
   "id": "3c3b4ae6",
   "metadata": {},
   "outputs": [
    {
     "data": {
      "text/plain": [
       "array([81, 18], dtype=int32)"
      ]
     },
     "execution_count": 7,
     "metadata": {},
     "output_type": "execute_result"
    }
   ],
   "source": [
    "best_contour[0][0]"
   ]
  },
  {
   "cell_type": "code",
   "execution_count": 8,
   "id": "f28e037d",
   "metadata": {},
   "outputs": [
    {
     "data": {
      "text/plain": [
       "(81, 18)"
      ]
     },
     "execution_count": 8,
     "metadata": {},
     "output_type": "execute_result"
    }
   ],
   "source": [
    "x1,y1=best_contour[0][0]\n",
    "x1,y1"
   ]
  },
  {
   "cell_type": "code",
   "execution_count": 9,
   "id": "5acb96bf",
   "metadata": {},
   "outputs": [
    {
     "data": {
      "text/plain": [
       "(80, 19)"
      ]
     },
     "execution_count": 9,
     "metadata": {},
     "output_type": "execute_result"
    }
   ],
   "source": [
    "x2,y2=best_contour[1][0]\n",
    "x2,y2"
   ]
  },
  {
   "cell_type": "code",
   "execution_count": 10,
   "id": "801f7ad4",
   "metadata": {},
   "outputs": [
    {
     "data": {
      "text/plain": [
       "(-1, 1)"
      ]
     },
     "execution_count": 10,
     "metadata": {},
     "output_type": "execute_result"
    }
   ],
   "source": [
    "x2-x1,y2-y1"
   ]
  },
  {
   "cell_type": "code",
   "execution_count": 11,
   "id": "8fc828b3",
   "metadata": {},
   "outputs": [
    {
     "name": "stdout",
     "output_type": "stream",
     "text": [
      "1\n"
     ]
    }
   ],
   "source": [
    "if x2-x1 == -1 and  y2-y1 == 1 :\n",
    "    code = 1\n",
    "    print(code)"
   ]
  },
  {
   "cell_type": "code",
   "execution_count": 12,
   "id": "fd0b7369",
   "metadata": {},
   "outputs": [
    {
     "data": {
      "text/plain": [
       "1"
      ]
     },
     "execution_count": 12,
     "metadata": {},
     "output_type": "execute_result"
    }
   ],
   "source": [
    "code"
   ]
  },
  {
   "cell_type": "code",
   "execution_count": 13,
   "id": "5486d20a",
   "metadata": {},
   "outputs": [],
   "source": [
    "d={\n",
    "    (-1,1):1\n",
    "}"
   ]
  },
  {
   "cell_type": "code",
   "execution_count": 14,
   "id": "0a4f70f1",
   "metadata": {},
   "outputs": [
    {
     "data": {
      "text/plain": [
       "1"
      ]
     },
     "execution_count": 14,
     "metadata": {},
     "output_type": "execute_result"
    }
   ],
   "source": [
    "d[(x2-x1,y2-y1)]"
   ]
  },
  {
   "cell_type": "markdown",
   "id": "f3fba2f8",
   "metadata": {},
   "source": [
    "We create a lookup table that maps between (`dx`, `dy`) and the chain code value according to the image above:\n",
    "- Each key in the table is (`dx`, `dy`)\n",
    "- The value is the chain code value"
   ]
  },
  {
   "cell_type": "code",
   "execution_count": 15,
   "id": "0f2b7168",
   "metadata": {},
   "outputs": [],
   "source": [
    "lookup_table = {\n",
    "    (1, 0): 0,\n",
    "    (1, -1): 1,\n",
    "    (0, -1): 2,\n",
    "    (-1, -1): 3,\n",
    "    (-1, 0): 4,\n",
    "    (-1, 1): 5,\n",
    "    (0, 1): 6,\n",
    "    (1, 1): 7\n",
    "}"
   ]
  },
  {
   "cell_type": "markdown",
   "id": "e6158db5",
   "metadata": {},
   "source": [
    "We can generate a histogram of chain codes by counting how many times each value appears in the chain code. The next cell will loop through points of the best contour to print the chain code and calculate the histogram.\n",
    "- First, we initialize the histogram `hist` to zeros. The histogram has 8 values that represent the number of occurrences of each chain code value (from 0 to 7)\n",
    "- After that, we loop through the points of the best contour (except the last point)\n",
    "- Inside the loop, we store the current point (index `i`) in `pt1` and the next point (index `i+1`) in `pt2`\n",
    "- We calculate `dx` and `dy` by subtracting the x and y values between `pt2` and `pt1`\n",
    "- We give (`dx`, `dy`) to the lookup table to obtain the chain code value (we can print it if we want)\n",
    "- We increment the histogram at the index of the chain code value `hist[code] += 1`\n",
    "\n",
    "Outside the loop, we normalize the histogram by dividing it by the total sum: `hist/hist.sum()`. The normalized histogram will remain the same even if the object's size increases"
   ]
  },
  {
   "cell_type": "code",
   "execution_count": 16,
   "id": "39101399",
   "metadata": {},
   "outputs": [],
   "source": [
    "import numpy as np\n",
    "\n",
    "hist = np.zeros((8,))"
   ]
  },
  {
   "cell_type": "code",
   "execution_count": 17,
   "id": "db374542",
   "metadata": {},
   "outputs": [
    {
     "data": {
      "text/plain": [
       "(8,)"
      ]
     },
     "execution_count": 17,
     "metadata": {},
     "output_type": "execute_result"
    }
   ],
   "source": [
    "hist.shape"
   ]
  },
  {
   "cell_type": "code",
   "execution_count": 18,
   "id": "c1e31dc3",
   "metadata": {},
   "outputs": [
    {
     "name": "stdout",
     "output_type": "stream",
     "text": [
      "5655656565565655656565565656556565565656556565565656556565565656556565565656556565565656556566700000000000000000000000000000000000000000000000000000000000000000000000000000000000000000000000000000000000122323233232323323232332323233232323323232332323233232323323232332323233232323323232332323233234\n",
      "\n",
      "[0.3590604  0.0033557  0.13758389 0.17785235 0.0033557  0.18120805\n",
      " 0.13422819 0.0033557 ]\n"
     ]
    }
   ],
   "source": [
    "import numpy as np\n",
    "\n",
    "hist = np.zeros((8,))\n",
    "\n",
    "for i in range(len(best_contour)-1):\n",
    "    (x1, y1) = best_contour[i][0]\n",
    "    (x2, y2) = best_contour[i+1][0]\n",
    "    dx = x2 - x1\n",
    "    dy = y2 - y1\n",
    "    code = lookup_table[(dx, dy)]\n",
    "    print(code, end='')\n",
    "    hist[code] += 1\n",
    "\n",
    "print(\"\\n\")\n",
    "print(hist/hist.sum())"
   ]
  },
  {
   "cell_type": "markdown",
   "id": "726bf11d",
   "metadata": {},
   "source": [
    "We wrap what we did so far in a function that takes an RGB image `img_rgb` and returns the normalized histogram of chain codes. We can use this histogram as a feature descriptor for the image "
   ]
  },
  {
   "cell_type": "code",
   "execution_count": 19,
   "id": "6fdbcc4b",
   "metadata": {},
   "outputs": [],
   "source": [
    "def chain_hist(img_rgb):\n",
    "\n",
    "    best_contour = find_best_contour(img_rgb)\n",
    "    \n",
    "    lookup_table = {\n",
    "        (1, 0): 0,\n",
    "        (1, -1): 1,\n",
    "        (0, -1): 2,\n",
    "        (-1, -1): 3,\n",
    "        (-1, 0): 4,\n",
    "        (-1, 1): 5,\n",
    "        (0, 1): 6,\n",
    "        (1, 1): 7\n",
    "    }\n",
    "\n",
    "    hist = np.zeros((8,))\n",
    "    for i in range(len(best_contour)-1):\n",
    "        pt1 = best_contour[i][0]\n",
    "        pt2 = best_contour[i+1][0]\n",
    "        dx = pt2[0] - pt1[0]\n",
    "        dy = pt2[1] - pt1[1]\n",
    "        code = lookup_table[(dx, dy)]\n",
    "        hist[code] += 1\n",
    "\n",
    "    return hist/hist.sum()"
   ]
  },
  {
   "cell_type": "code",
   "execution_count": 20,
   "id": "ec881685",
   "metadata": {},
   "outputs": [
    {
     "name": "stdout",
     "output_type": "stream",
     "text": [
      "[0.3590604  0.0033557  0.13758389 0.17785235 0.0033557  0.18120805\n",
      " 0.13422819 0.0033557 ]\n"
     ]
    }
   ],
   "source": [
    "print(chain_hist(img))"
   ]
  },
  {
   "cell_type": "markdown",
   "id": "a3ca14d0",
   "metadata": {},
   "source": [
    "# Using Support Vector Machine for shape classification\n",
    "We use the normalized histograms of chain codes as features to train a Support Vector machine (SVM) classifier to classify the images of shapes (circle, square, star, rectangle)\n",
    "\n",
    "We use the Four shapes dataset from kaggle [dataset link](https://www.kaggle.com/datasets/smeschke/four-shapes)\n",
    "\n",
    "The next function takes the path to the data folder (`data_path`) and returns a DataFrame with two columns: image path, and output\n",
    "\n",
    "## Creating a DataFrame for our dataset"
   ]
  },
  {
   "cell_type": "code",
   "execution_count": 21,
   "id": "51a95e1a",
   "metadata": {},
   "outputs": [],
   "source": [
    "import os\n",
    "import pandas as pd\n",
    "\n",
    "def create_df(data_path):\n",
    "    \n",
    "    # the class_dict is a mapping between class name and value\n",
    "    class_dict = {\n",
    "        'circle': 0,\n",
    "        'square': 1,\n",
    "        'star': 2,\n",
    "        'triangle': 3\n",
    "    }\n",
    "    \n",
    "    # we store image paths and outputs here\n",
    "    df = []\n",
    "    \n",
    "    # for each class\n",
    "    for class_name, class_value in class_dict.items():\n",
    "        class_folder = os.path.join(data_path, class_name)\n",
    "        # for each image in class folder\n",
    "        for f in os.listdir(class_folder):\n",
    "            f_path = os.path.join(class_folder, f)\n",
    "            # if this is a \"png\" file, add its path and output\n",
    "            if f_path.lower().endswith('.png'):\n",
    "                df.append([f_path, class_value])\n",
    "    \n",
    "    # create a dataframe of image paths and outputs\n",
    "    df = pd.DataFrame(df, columns=['path', 'output'])\n",
    "    \n",
    "    return df"
   ]
  },
  {
   "cell_type": "markdown",
   "id": "b790a9e3",
   "metadata": {},
   "source": [
    "We use the previous function to read the data from the `shapes_dataset/` folder"
   ]
  },
  {
   "cell_type": "code",
   "execution_count": 22,
   "id": "32cbc63d",
   "metadata": {},
   "outputs": [
    {
     "data": {
      "text/html": [
       "<div>\n",
       "<style scoped>\n",
       "    .dataframe tbody tr th:only-of-type {\n",
       "        vertical-align: middle;\n",
       "    }\n",
       "\n",
       "    .dataframe tbody tr th {\n",
       "        vertical-align: top;\n",
       "    }\n",
       "\n",
       "    .dataframe thead th {\n",
       "        text-align: right;\n",
       "    }\n",
       "</style>\n",
       "<table border=\"1\" class=\"dataframe\">\n",
       "  <thead>\n",
       "    <tr style=\"text-align: right;\">\n",
       "      <th></th>\n",
       "      <th>path</th>\n",
       "      <th>output</th>\n",
       "    </tr>\n",
       "  </thead>\n",
       "  <tbody>\n",
       "    <tr>\n",
       "      <th>0</th>\n",
       "      <td>shapes/circle\\0.png</td>\n",
       "      <td>0</td>\n",
       "    </tr>\n",
       "    <tr>\n",
       "      <th>1</th>\n",
       "      <td>shapes/circle\\1.png</td>\n",
       "      <td>0</td>\n",
       "    </tr>\n",
       "    <tr>\n",
       "      <th>2</th>\n",
       "      <td>shapes/circle\\10.png</td>\n",
       "      <td>0</td>\n",
       "    </tr>\n",
       "    <tr>\n",
       "      <th>3</th>\n",
       "      <td>shapes/circle\\100.png</td>\n",
       "      <td>0</td>\n",
       "    </tr>\n",
       "    <tr>\n",
       "      <th>4</th>\n",
       "      <td>shapes/circle\\1000.png</td>\n",
       "      <td>0</td>\n",
       "    </tr>\n",
       "    <tr>\n",
       "      <th>...</th>\n",
       "      <td>...</td>\n",
       "      <td>...</td>\n",
       "    </tr>\n",
       "    <tr>\n",
       "      <th>14965</th>\n",
       "      <td>shapes/triangle\\995.png</td>\n",
       "      <td>3</td>\n",
       "    </tr>\n",
       "    <tr>\n",
       "      <th>14966</th>\n",
       "      <td>shapes/triangle\\996.png</td>\n",
       "      <td>3</td>\n",
       "    </tr>\n",
       "    <tr>\n",
       "      <th>14967</th>\n",
       "      <td>shapes/triangle\\997.png</td>\n",
       "      <td>3</td>\n",
       "    </tr>\n",
       "    <tr>\n",
       "      <th>14968</th>\n",
       "      <td>shapes/triangle\\998.png</td>\n",
       "      <td>3</td>\n",
       "    </tr>\n",
       "    <tr>\n",
       "      <th>14969</th>\n",
       "      <td>shapes/triangle\\999.png</td>\n",
       "      <td>3</td>\n",
       "    </tr>\n",
       "  </tbody>\n",
       "</table>\n",
       "<p>14970 rows × 2 columns</p>\n",
       "</div>"
      ],
      "text/plain": [
       "                          path  output\n",
       "0          shapes/circle\\0.png       0\n",
       "1          shapes/circle\\1.png       0\n",
       "2         shapes/circle\\10.png       0\n",
       "3        shapes/circle\\100.png       0\n",
       "4       shapes/circle\\1000.png       0\n",
       "...                        ...     ...\n",
       "14965  shapes/triangle\\995.png       3\n",
       "14966  shapes/triangle\\996.png       3\n",
       "14967  shapes/triangle\\997.png       3\n",
       "14968  shapes/triangle\\998.png       3\n",
       "14969  shapes/triangle\\999.png       3\n",
       "\n",
       "[14970 rows x 2 columns]"
      ]
     },
     "execution_count": 22,
     "metadata": {},
     "output_type": "execute_result"
    }
   ],
   "source": [
    "data = create_df('shapes/')\n",
    "data"
   ]
  },
  {
   "cell_type": "markdown",
   "id": "dd1e1996",
   "metadata": {},
   "source": [
    "## Extracting features"
   ]
  },
  {
   "cell_type": "markdown",
   "id": "afb2aa62",
   "metadata": {},
   "source": [
    "We loop through image paths to read each image and extract features from it using our `chain_hist` function. We store all images' features in an array `X` and return it"
   ]
  },
  {
   "cell_type": "code",
   "execution_count": 23,
   "id": "52f0c80b",
   "metadata": {},
   "outputs": [],
   "source": [
    "from tqdm import tqdm\n",
    "\n",
    "def extract_features(img_paths):\n",
    "    n = len(img_paths)\n",
    "    X = np.zeros((n, 8))\n",
    "    for i in tqdm(range(n)):\n",
    "        f_path = img_paths[i]\n",
    "        img = imread(f_path)\n",
    "        features = chain_hist(img)\n",
    "        X[i] = features\n",
    "    return X"
   ]
  },
  {
   "cell_type": "code",
   "execution_count": 24,
   "id": "a2540740",
   "metadata": {},
   "outputs": [
    {
     "name": "stderr",
     "output_type": "stream",
     "text": [
      "100%|███████████████████████████████████████████████████████████████████████████| 14970/14970 [01:00<00:00, 249.21it/s]\n"
     ]
    }
   ],
   "source": [
    "X = extract_features(data['path'])"
   ]
  },
  {
   "cell_type": "markdown",
   "id": "1d3be121",
   "metadata": {},
   "source": [
    "We store outputs in `y`"
   ]
  },
  {
   "cell_type": "code",
   "execution_count": 25,
   "id": "613ef29e",
   "metadata": {},
   "outputs": [],
   "source": [
    "y = data['output']"
   ]
  },
  {
   "cell_type": "markdown",
   "id": "a5ed8cb3",
   "metadata": {},
   "source": [
    "## Splitting dataset"
   ]
  },
  {
   "cell_type": "markdown",
   "id": "677300a9",
   "metadata": {},
   "source": [
    "We split the data to train and test sets"
   ]
  },
  {
   "cell_type": "code",
   "execution_count": 26,
   "id": "8f0e75da",
   "metadata": {},
   "outputs": [],
   "source": [
    "from sklearn.model_selection import train_test_split\n",
    "\n",
    "X_train, X_test, y_train, y_test = train_test_split(\n",
    "    X, y, test_size=0.30, random_state=0\n",
    ")"
   ]
  },
  {
   "cell_type": "markdown",
   "id": "9b566ead",
   "metadata": {},
   "source": [
    "## Training"
   ]
  },
  {
   "cell_type": "markdown",
   "id": "d8ca772f",
   "metadata": {},
   "source": [
    "We train our Support vector machine"
   ]
  },
  {
   "cell_type": "code",
   "execution_count": 27,
   "id": "ef17b537",
   "metadata": {},
   "outputs": [],
   "source": [
    "from sklearn.svm import SVC"
   ]
  },
  {
   "cell_type": "code",
   "execution_count": 28,
   "id": "b1c8a01e",
   "metadata": {},
   "outputs": [
    {
     "data": {
      "text/html": [
       "<style>#sk-container-id-1 {color: black;}#sk-container-id-1 pre{padding: 0;}#sk-container-id-1 div.sk-toggleable {background-color: white;}#sk-container-id-1 label.sk-toggleable__label {cursor: pointer;display: block;width: 100%;margin-bottom: 0;padding: 0.3em;box-sizing: border-box;text-align: center;}#sk-container-id-1 label.sk-toggleable__label-arrow:before {content: \"▸\";float: left;margin-right: 0.25em;color: #696969;}#sk-container-id-1 label.sk-toggleable__label-arrow:hover:before {color: black;}#sk-container-id-1 div.sk-estimator:hover label.sk-toggleable__label-arrow:before {color: black;}#sk-container-id-1 div.sk-toggleable__content {max-height: 0;max-width: 0;overflow: hidden;text-align: left;background-color: #f0f8ff;}#sk-container-id-1 div.sk-toggleable__content pre {margin: 0.2em;color: black;border-radius: 0.25em;background-color: #f0f8ff;}#sk-container-id-1 input.sk-toggleable__control:checked~div.sk-toggleable__content {max-height: 200px;max-width: 100%;overflow: auto;}#sk-container-id-1 input.sk-toggleable__control:checked~label.sk-toggleable__label-arrow:before {content: \"▾\";}#sk-container-id-1 div.sk-estimator input.sk-toggleable__control:checked~label.sk-toggleable__label {background-color: #d4ebff;}#sk-container-id-1 div.sk-label input.sk-toggleable__control:checked~label.sk-toggleable__label {background-color: #d4ebff;}#sk-container-id-1 input.sk-hidden--visually {border: 0;clip: rect(1px 1px 1px 1px);clip: rect(1px, 1px, 1px, 1px);height: 1px;margin: -1px;overflow: hidden;padding: 0;position: absolute;width: 1px;}#sk-container-id-1 div.sk-estimator {font-family: monospace;background-color: #f0f8ff;border: 1px dotted black;border-radius: 0.25em;box-sizing: border-box;margin-bottom: 0.5em;}#sk-container-id-1 div.sk-estimator:hover {background-color: #d4ebff;}#sk-container-id-1 div.sk-parallel-item::after {content: \"\";width: 100%;border-bottom: 1px solid gray;flex-grow: 1;}#sk-container-id-1 div.sk-label:hover label.sk-toggleable__label {background-color: #d4ebff;}#sk-container-id-1 div.sk-serial::before {content: \"\";position: absolute;border-left: 1px solid gray;box-sizing: border-box;top: 0;bottom: 0;left: 50%;z-index: 0;}#sk-container-id-1 div.sk-serial {display: flex;flex-direction: column;align-items: center;background-color: white;padding-right: 0.2em;padding-left: 0.2em;position: relative;}#sk-container-id-1 div.sk-item {position: relative;z-index: 1;}#sk-container-id-1 div.sk-parallel {display: flex;align-items: stretch;justify-content: center;background-color: white;position: relative;}#sk-container-id-1 div.sk-item::before, #sk-container-id-1 div.sk-parallel-item::before {content: \"\";position: absolute;border-left: 1px solid gray;box-sizing: border-box;top: 0;bottom: 0;left: 50%;z-index: -1;}#sk-container-id-1 div.sk-parallel-item {display: flex;flex-direction: column;z-index: 1;position: relative;background-color: white;}#sk-container-id-1 div.sk-parallel-item:first-child::after {align-self: flex-end;width: 50%;}#sk-container-id-1 div.sk-parallel-item:last-child::after {align-self: flex-start;width: 50%;}#sk-container-id-1 div.sk-parallel-item:only-child::after {width: 0;}#sk-container-id-1 div.sk-dashed-wrapped {border: 1px dashed gray;margin: 0 0.4em 0.5em 0.4em;box-sizing: border-box;padding-bottom: 0.4em;background-color: white;}#sk-container-id-1 div.sk-label label {font-family: monospace;font-weight: bold;display: inline-block;line-height: 1.2em;}#sk-container-id-1 div.sk-label-container {text-align: center;}#sk-container-id-1 div.sk-container {/* jupyter's `normalize.less` sets `[hidden] { display: none; }` but bootstrap.min.css set `[hidden] { display: none !important; }` so we also need the `!important` here to be able to override the default hidden behavior on the sphinx rendered scikit-learn.org. See: https://github.com/scikit-learn/scikit-learn/issues/21755 */display: inline-block !important;position: relative;}#sk-container-id-1 div.sk-text-repr-fallback {display: none;}</style><div id=\"sk-container-id-1\" class=\"sk-top-container\"><div class=\"sk-text-repr-fallback\"><pre>SVC()</pre><b>In a Jupyter environment, please rerun this cell to show the HTML representation or trust the notebook. <br />On GitHub, the HTML representation is unable to render, please try loading this page with nbviewer.org.</b></div><div class=\"sk-container\" hidden><div class=\"sk-item\"><div class=\"sk-estimator sk-toggleable\"><input class=\"sk-toggleable__control sk-hidden--visually\" id=\"sk-estimator-id-1\" type=\"checkbox\" checked><label for=\"sk-estimator-id-1\" class=\"sk-toggleable__label sk-toggleable__label-arrow\">SVC</label><div class=\"sk-toggleable__content\"><pre>SVC()</pre></div></div></div></div></div>"
      ],
      "text/plain": [
       "SVC()"
      ]
     },
     "execution_count": 28,
     "metadata": {},
     "output_type": "execute_result"
    }
   ],
   "source": [
    "model = SVC()\n",
    "model.fit(X_train, y_train)"
   ]
  },
  {
   "cell_type": "markdown",
   "id": "64db89c8",
   "metadata": {},
   "source": [
    "## Calculating accuracy"
   ]
  },
  {
   "cell_type": "markdown",
   "id": "74e7e086",
   "metadata": {},
   "source": [
    "We print the accuracy of train and test"
   ]
  },
  {
   "cell_type": "code",
   "execution_count": 29,
   "id": "2bdb8f4d",
   "metadata": {},
   "outputs": [
    {
     "name": "stdout",
     "output_type": "stream",
     "text": [
      "0.9370168909247065\n",
      "0.9423291026497439\n"
     ]
    }
   ],
   "source": [
    "from sklearn.metrics import accuracy_score\n",
    "\n",
    "y_pred_train = model.predict(X_train)\n",
    "y_pred_test = model.predict(X_test)\n",
    "\n",
    "print(accuracy_score(y_train, y_pred_train))\n",
    "print(accuracy_score(y_test, y_pred_test))"
   ]
  },
  {
   "cell_type": "markdown",
   "id": "56b6ea4b",
   "metadata": {},
   "source": [
    "## Testing with images outside the dataset"
   ]
  },
  {
   "cell_type": "markdown",
   "id": "60075b6a",
   "metadata": {},
   "source": [
    "We test the model with images outside the dataset"
   ]
  },
  {
   "cell_type": "code",
   "execution_count": 30,
   "id": "5e54f2fb",
   "metadata": {},
   "outputs": [],
   "source": [
    "def test_model(model, img_path):\n",
    "    classes = ['circle', 'square', 'star', 'triangle']\n",
    "    img = imread(img_path)\n",
    "    x = chain_hist(img)\n",
    "    c = model.predict([x])[0]\n",
    "    print(img_path, '->', classes[c])"
   ]
  },
  {
   "cell_type": "code",
   "execution_count": 31,
   "id": "67a65b87",
   "metadata": {},
   "outputs": [
    {
     "name": "stdout",
     "output_type": "stream",
     "text": [
      "images/square.png -> square\n",
      "images/star.png -> star\n",
      "images/circle.png -> square\n",
      "images/triangle.png -> triangle\n",
      "images/square-hollow.png -> square\n",
      "images/star-hollow.png -> star\n",
      "images/circle-hollow.png -> square\n",
      "images/triangle-hollow.png -> triangle\n"
     ]
    }
   ],
   "source": [
    "test_model(model, 'images/square.png')\n",
    "test_model(model, 'images/star.png')\n",
    "test_model(model, 'images/circle.png')\n",
    "test_model(model, 'images/triangle.png')\n",
    "test_model(model, 'images/square-hollow.png')\n",
    "test_model(model, 'images/star-hollow.png')\n",
    "test_model(model, 'images/circle-hollow.png')\n",
    "test_model(model, 'images/triangle-hollow.png')"
   ]
  },
  {
   "cell_type": "markdown",
   "id": "f7124926",
   "metadata": {},
   "source": [
    "We can see the model is correct for all images except the circle. \n",
    "\n",
    "This problem can be solved by using a better dataset for training (The contour of the circles in the dataset are not smooth like the circles outside the dataset).\n",
    "\n",
    "Or we can use a better feature descriptor for the images instead of the histogram of chain codes."
   ]
  },
  {
   "cell_type": "markdown",
   "id": "d1f2d36c",
   "metadata": {},
   "source": [
    "# Object detection example"
   ]
  },
  {
   "cell_type": "code",
   "execution_count": 32,
   "id": "58f4af93",
   "metadata": {
    "scrolled": true
   },
   "outputs": [
    {
     "data": {
      "image/png": "[encoded data removed]",
      "text/plain": [
       "<Figure size 360x360 with 1 Axes>"
      ]
     },
     "metadata": {
      "needs_background": "light"
     },
     "output_type": "display_data"
    }
   ],
   "source": [
    "img = imread('images/shapes.png')\n",
    "imshow(img)"
   ]
  },
  {
   "cell_type": "markdown",
   "id": "d3ef643d",
   "metadata": {},
   "source": [
    "Try to write a program to take the previous image as input and produce the following output:\n",
    "\n",
    "<img src=\"images/shapes-result-example.png\" width=\"400\" align=\"left\">"
   ]
  },
  {
   "cell_type": "markdown",
   "id": "880b02dd",
   "metadata": {},
   "source": [
    "# Other feature descriptors\n",
    "The method we used is very simple and won't work for complex objects (such as cats). If we want to deal with complex objects, we should use a better feature descriptor. Examples include:\n",
    "- SIFT (Scale-Invariant Feature Transform)\n",
    "- SURF (Speeded-Up Robust Features)\n",
    "- LBP (Local Binary Patterns)\n",
    "- HOG (Histogram Oriented Gradients)\n",
    "- Deep-learning based:\n",
    "  - Auto encoders\n",
    "  - Pre-trained models such as ResNet, etc."
   ]
  }
 ],
 "metadata": {
  "kernelspec": {
   "display_name": "Python 3",
   "language": "python",
   "name": "python3"
  },
  "language_info": {
   "codemirror_mode": {
    "name": "ipython",
    "version": 3
   },
   "file_extension": ".py",
   "mimetype": "text/x-python",
   "name": "python",
   "nbconvert_exporter": "python",
   "pygments_lexer": "ipython3",
   "version": "3.8.8"
  }
 },
 "nbformat": 4,
 "nbformat_minor": 5
}
