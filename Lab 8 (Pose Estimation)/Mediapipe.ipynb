{
 "cells": [
  {
   "cell_type": "code",
   "execution_count": 1,
   "metadata": {},
   "outputs": [
    {
     "name": "stdout",
     "output_type": "stream",
     "text": [
      "Num GPUs Available:  1\n"
     ]
    },
    {
     "data": {
      "text/plain": [
       "[PhysicalDevice(name='/physical_device:GPU:0', device_type='GPU')]"
      ]
     },
     "execution_count": 1,
     "metadata": {},
     "output_type": "execute_result"
    }
   ],
   "source": [
    "import tensorflow as tf\n",
    "print(\"Num GPUs Available: \", len(tf.config.experimental.list_physical_devices('GPU')))\n",
    "tf.config.list_physical_devices('GPU')"
   ]
  },
  {
   "cell_type": "code",
   "execution_count": null,
   "metadata": {},
   "outputs": [],
   "source": [
    "#Hand Detection"
   ]
  },
  {
   "cell_type": "code",
   "execution_count": 66,
   "metadata": {},
   "outputs": [],
   "source": [
    "import numpy as np\n",
    "import cv2\n",
    "import mediapipe as mp\n",
    "import time\n",
    "mp_drawing = mp.solutions.drawing_utils\n",
    "hand = mp.solutions.hands\n",
    "mp_hands = mp.solutions.hands.Hands(False,1,0.7,0.5)\n",
    "\n",
    "cap=cv2.VideoCapture(0)\n",
    "cap.set(3,1920)\n",
    "cap.set(4,1080)\n",
    "\n",
    "fill=[]\n",
    "while True:\n",
    "    ret,image=cap.read()\n",
    "    if ret==False :\n",
    "        break\n",
    "    rows, cols, _ = image.shape\n",
    "    \n",
    "    image = cv2.cvtColor(cv2.flip(image, 1), cv2.COLOR_BGR2RGB)\n",
    "    image.flags.writeable = False\n",
    "    results = mp_hands.process(image)\n",
    "    image.flags.writeable = True\n",
    "    \n",
    "    if results.multi_hand_landmarks:\n",
    "        for hand_landmarks in results.multi_hand_landmarks:\n",
    "            mp_drawing.draw_landmarks( image, hand_landmarks,hand.HAND_CONNECTIONS)\n",
    "            x = [ int(landmark.x * cols) for landmark in hand_landmarks.landmark]\n",
    "            y = [ int(landmark.y * rows) for landmark in hand_landmarks.landmark]\n",
    "            \n",
    "                \n",
    "            \n",
    "    image = cv2.cvtColor(image, cv2.COLOR_RGB2BGR)\n",
    "    \n",
    "    cTime=time.time()\n",
    "    fps=1/(cTime-pTime)\n",
    "    pTime=cTime\n",
    "    \n",
    "    cv2.imshow('MediaPipe Hands', image)\n",
    "    if cv2.waitKey(10) & 0xFF == 27:\n",
    "      break\n",
    "cap.release()\n",
    "cv2.destroyAllWindows()"
   ]
  },
  {
   "cell_type": "code",
   "execution_count": null,
   "metadata": {},
   "outputs": [],
   "source": [
    "#Body LandMarks"
   ]
  },
  {
   "cell_type": "code",
   "execution_count": 31,
   "metadata": {},
   "outputs": [],
   "source": [
    "import numpy as np\n",
    "import cv2\n",
    "import mediapipe as mp\n",
    "import time\n",
    "mp_drawing = mp.solutions.drawing_utils\n",
    "mp_pose = mp.solutions.pose\n",
    "pose = mp.solutions.pose.Pose()\n",
    "\n",
    "cap=cv2.VideoCapture(0)\n",
    "cap.set(3,1280)\n",
    "cap.set(4,720)\n",
    "pTime=0\n",
    "while True:\n",
    "    ret,image=cap.read()\n",
    "    if ret==False :\n",
    "        break\n",
    "        \n",
    "    cv2.putText(image,str(int(fps)),(70,50),cv2.FONT_HERSHEY_PLAIN,3,(0,0,255),3)\n",
    "    image = cv2.cvtColor(cv2.flip(image, 1), cv2.COLOR_BGR2RGB)\n",
    "    results = pose.process(image)\n",
    "    rows, cols, _ = image.shape\n",
    "    \n",
    "    if results.pose_landmarks:\n",
    "        mp_drawing.draw_landmarks( image, results.pose_landmarks,mp_pose.POSE_CONNECTIONS)\n",
    "        for id , lm in enumerate(results.pose_landmarks.landmark):\n",
    "            cx,cy=int(lm.x*rows) , int(lm.y * cols)\n",
    "            cv2.circle(image,(cx,cy),10,(0,0,255),-1)\n",
    "            \n",
    "    image = cv2.cvtColor(image, cv2.COLOR_RGB2BGR)\n",
    "    cTime=time.time()\n",
    "    fps=1/(cTime-pTime)\n",
    "    pTime=cTime\n",
    "    cv2.imshow('MediaPipe Hands', image)\n",
    "    if cv2.waitKey(1) & 0xFF == 27:\n",
    "      break\n",
    "    \n",
    "cap.release()\n",
    "cv2.destroyAllWindows()"
   ]
  },
  {
   "cell_type": "code",
   "execution_count": null,
   "metadata": {},
   "outputs": [],
   "source": [
    "#Face Detection"
   ]
  },
  {
   "cell_type": "code",
   "execution_count": 48,
   "metadata": {},
   "outputs": [],
   "source": [
    "import numpy as np\n",
    "import cv2\n",
    "import mediapipe as mp\n",
    "import time\n",
    "mp_drawing = mp.solutions.drawing_utils\n",
    "mpFaceDetection = mp.solutions.face_detection\n",
    "faceDetection = mp.solutions.face_detection.FaceDetection()\n",
    "\n",
    "cap=cv2.VideoCapture(0)\n",
    "cap.set(3,1280)\n",
    "cap.set(4,720)\n",
    "pTime=0\n",
    "while True:\n",
    "    ret,image=cap.read()\n",
    "    \n",
    "    if ret==False :\n",
    "        break\n",
    "        \n",
    "    \n",
    "    cv2.putText(image,str(int(fps)),(70,50),cv2.FONT_HERSHEY_PLAIN,3,(0,0,255),3)\n",
    "    \n",
    "    image = cv2.cvtColor(cv2.flip(image, 1), cv2.COLOR_BGR2RGB)\n",
    "    results = faceDetection.process(image)\n",
    "    rows, cols, _ = image.shape\n",
    "    \n",
    "    if results.detections:\n",
    "        \n",
    "        for id , detection in enumerate(results.detections):\n",
    "            #mp_drawing.draw_detection( image, detection)\n",
    "            bboxC=detection.location_data.relative_bounding_box\n",
    "            bbox=int(bboxC.xmin*cols),int(bboxC.ymin*rows),\\\n",
    "            int(bboxC.width*cols),int(bboxC.height*rows)\n",
    "            cv2.rectangle(image,bbox,(255,0,0),2)\n",
    "            cv2.putText(image,f'{int(detection.score[0]*100)} %',(bbox[0],bbox[1]-20),cv2.FONT_HERSHEY_PLAIN,3,(0,0,255),3)\n",
    "    \n",
    "    image = cv2.cvtColor(image, cv2.COLOR_RGB2BGR)\n",
    "    \n",
    "    cTime=time.time()\n",
    "    fps=1/(cTime-pTime)\n",
    "    pTime=cTime\n",
    "    cv2.imshow('MediaPipe Hands', image)\n",
    "    if cv2.waitKey(1) & 0xFF == 27:\n",
    "      break\n",
    "cap.release()\n",
    "cv2.destroyAllWindows()"
   ]
  },
  {
   "cell_type": "code",
   "execution_count": null,
   "metadata": {},
   "outputs": [],
   "source": [
    "#FaceMesh"
   ]
  },
  {
   "cell_type": "code",
   "execution_count": 51,
   "metadata": {},
   "outputs": [],
   "source": [
    "import numpy as np\n",
    "import cv2\n",
    "import mediapipe as mp\n",
    "import time\n",
    "mp_drawing = mp.solutions.drawing_utils\n",
    "mpFacemesh = mp.solutions.face_mesh\n",
    "faceMesh = mp.solutions.face_mesh.FaceMesh(max_num_faces=2)\n",
    "drawSpec=mp_drawing.DrawingSpec(thickness=1,circle_radius=2)\n",
    "cap=cv2.VideoCapture(0)\n",
    "cap.set(3,1280)\n",
    "cap.set(4,720)\n",
    "pTime=0\n",
    "while True:\n",
    "    ret,image=cap.read()\n",
    "    \n",
    "    if ret==False :\n",
    "        break\n",
    "        \n",
    "    \n",
    "    \n",
    "    \n",
    "    image = cv2.cvtColor(cv2.flip(image, 1), cv2.COLOR_BGR2RGB)\n",
    "    results = faceMesh.process(image)\n",
    "    rows, cols, _ = image.shape\n",
    "    \n",
    "    if results.multi_face_landmarks:\n",
    "        for facelms in results.multi_face_landmarks:\n",
    "            mp_drawing.draw_landmarks( image, facelms,mpFacemesh.FACE_CONNECTIONS,drawSpec,drawSpec)\n",
    "            for id ,lm in enumerate(facelms.landmark):\n",
    "                x,y=int(lm.x*rows),int(lm.y*cols)\n",
    "            \n",
    "    image = cv2.cvtColor(image, cv2.COLOR_RGB2BGR)\n",
    "    \n",
    "    cTime=time.time()\n",
    "    fps=1/(cTime-pTime)\n",
    "    pTime=cTime\n",
    "    cv2.putText(image,str(int(fps)),(70,50),cv2.FONT_HERSHEY_PLAIN,3,(0,0,255),3)\n",
    "    cv2.imshow('MediaPipe Hands', image)\n",
    "    if cv2.waitKey(1) & 0xFF == 27:\n",
    "      break\n",
    "cap.release()\n",
    "cv2.destroyAllWindows()"
   ]
  },
  {
   "cell_type": "code",
   "execution_count": null,
   "metadata": {},
   "outputs": [],
   "source": []
  }
 ],
 "metadata": {
  "kernelspec": {
   "display_name": "Python 3",
   "language": "python",
   "name": "python3"
  },
  "language_info": {
   "codemirror_mode": {
    "name": "ipython",
    "version": 3
   },
   "file_extension": ".py",
   "mimetype": "text/x-python",
   "name": "python",
   "nbconvert_exporter": "python",
   "pygments_lexer": "ipython3",
   "version": "3.8.5"
  }
 },
 "nbformat": 4,
 "nbformat_minor": 4
}
