{
  "metadata": {
    "colab": {
      "provenance": []
    },
    "kernelspec": {
      "name": "python3",
      "display_name": "Python 3",
      "language": "python"
    },
    "language_info": {
      "name": "python",
      "version": "3.10.13",
      "mimetype": "text/x-python",
      "codemirror_mode": {
        "name": "ipython",
        "version": 3
      },
      "pygments_lexer": "ipython3",
      "nbconvert_exporter": "python",
      "file_extension": ".py"
    },
    "kaggle": {
      "accelerator": "none",
      "dataSources": [
        {
          "sourceId": 7862180,
          "sourceType": "datasetVersion",
          "datasetId": 4612200
        }
      ],
      "dockerImageVersionId": 30665,
      "isInternetEnabled": true,
      "language": "python",
      "sourceType": "notebook",
      "isGpuEnabled": false
    }
  },
  "nbformat_minor": 0,
  "nbformat": 4,
  "cells": [
    {
      "cell_type": "code",
      "source": [
        "!pip install roboflow\n",
        "\n",
        "from roboflow import Roboflow\n",
        "rf = Roboflow(api_key=\"AE4x6F2UzA8PofP1XkmV\")\n",
        "project = rf.workspace(\"roboflow-58fyf\").project(\"rock-paper-scissors-sxsw\")\n",
        "version = project.version(14)\n",
        "dataset = version.download(\"yolov8\")\n"
      ],
      "metadata": {
        "id": "NrX7UOPHGvAE",
        "execution": {
          "iopub.status.busy": "2024-03-16T19:31:28.560287Z",
          "iopub.execute_input": "2024-03-16T19:31:28.560558Z",
          "iopub.status.idle": "2024-03-16T19:31:55.225942Z",
          "shell.execute_reply.started": "2024-03-16T19:31:28.560534Z",
          "shell.execute_reply": "2024-03-16T19:31:55.225028Z"
        },
        "trusted": true
      },
      "execution_count": null,
      "outputs": []
    },
    {
      "cell_type": "code",
      "source": [
        "# Define a function to write text to a file\n",
        "def write_text_to_file(text, file_path):\n",
        "    with open(file_path, 'w') as file:\n",
        "        file.write(text)\n",
        "\n",
        "\n",
        "text=\"\"\"\n",
        "names:\n",
        "- Paper\n",
        "- Rock\n",
        "- Scissors\n",
        "\n",
        "nc: 3\n",
        "\n",
        "\n",
        "test: /kaggle/working/Rock-Paper-Scissors-SXSW-12/test/images\n",
        "train: /kaggle/working/Rock-Paper-Scissors-SXSW-12/train/images\n",
        "val: /kaggle/working/Rock-Paper-Scissors-SXSW-12/valid/images\n",
        "\n",
        "\"\"\"\n",
        "\n",
        "write_text_to_file(text, \"output.yaml\")"
      ],
      "metadata": {
        "id": "rjr32XMLwUIP"
      },
      "execution_count": null,
      "outputs": []
    },
    {
      "cell_type": "code",
      "source": [
        "%pip install ultralytics\n",
        "import ultralytics\n",
        "ultralytics.checks()"
      ],
      "metadata": {
        "id": "WcOqKK7dIKRU",
        "execution": {
          "iopub.status.busy": "2024-03-16T19:34:18.541920Z",
          "iopub.execute_input": "2024-03-16T19:34:18.542761Z",
          "iopub.status.idle": "2024-03-16T19:34:41.579701Z",
          "shell.execute_reply.started": "2024-03-16T19:34:18.542727Z",
          "shell.execute_reply": "2024-03-16T19:34:41.578767Z"
        },
        "trusted": true
      },
      "execution_count": null,
      "outputs": []
    },
    {
      "cell_type": "code",
      "source": [
        "# Train YOLOv8n on COCO8 for 10 epochs\n",
        "!yolo task= detect mode= train data=/kaggle/input/datamoney/data.yaml model=yolov8n.pt epochs=15 imgsz=640 batch=32"
      ],
      "metadata": {
        "id": "VXkKNK9WIKUL",
        "execution": {
          "iopub.status.busy": "2024-03-16T19:35:47.090906Z",
          "iopub.execute_input": "2024-03-16T19:35:47.091752Z",
          "iopub.status.idle": "2024-03-16T19:55:07.675123Z",
          "shell.execute_reply.started": "2024-03-16T19:35:47.091712Z",
          "shell.execute_reply": "2024-03-16T19:55:07.673986Z"
        },
        "trusted": true
      },
      "execution_count": null,
      "outputs": []
    },
    {
      "cell_type": "code",
      "source": [
        "from IPython.display import Image, display"
      ],
      "metadata": {
        "id": "d_4J2kAHRz8p",
        "execution": {
          "iopub.status.busy": "2024-03-16T20:01:08.782274Z",
          "iopub.execute_input": "2024-03-16T20:01:08.782691Z",
          "iopub.status.idle": "2024-03-16T20:01:08.790771Z",
          "shell.execute_reply.started": "2024-03-16T20:01:08.782656Z",
          "shell.execute_reply": "2024-03-16T20:01:08.789864Z"
        },
        "trusted": true
      },
      "execution_count": null,
      "outputs": []
    },
    {
      "cell_type": "code",
      "source": [
        "display(Image(filename=f\"/kaggle/working/runs/detect/train/confusion_matrix.png\", width=1000))"
      ],
      "metadata": {
        "id": "cT0rReELSxxy",
        "execution": {
          "iopub.status.busy": "2024-03-16T20:01:56.202120Z",
          "iopub.execute_input": "2024-03-16T20:01:56.202940Z",
          "iopub.status.idle": "2024-03-16T20:01:56.214242Z",
          "shell.execute_reply.started": "2024-03-16T20:01:56.202910Z",
          "shell.execute_reply": "2024-03-16T20:01:56.213269Z"
        },
        "trusted": true
      },
      "execution_count": null,
      "outputs": []
    },
    {
      "cell_type": "code",
      "source": [
        "display(Image(filename=f\"/kaggle/working/runs/detect/train/results.png\", width=1000))"
      ],
      "metadata": {
        "id": "agTSGeMjS0AZ",
        "execution": {
          "iopub.status.busy": "2024-03-16T20:02:23.205820Z",
          "iopub.execute_input": "2024-03-16T20:02:23.206585Z",
          "iopub.status.idle": "2024-03-16T20:02:23.219560Z",
          "shell.execute_reply.started": "2024-03-16T20:02:23.206548Z",
          "shell.execute_reply": "2024-03-16T20:02:23.218643Z"
        },
        "trusted": true
      },
      "execution_count": null,
      "outputs": []
    },
    {
      "cell_type": "code",
      "source": [
        "display(Image(filename=f\"/kaggle/working/runs/detect/train/val_batch1_labels.jpg\", width=1000))"
      ],
      "metadata": {
        "id": "O56obj_JS0IQ",
        "execution": {
          "iopub.status.busy": "2024-03-16T20:02:35.145710Z",
          "iopub.execute_input": "2024-03-16T20:02:35.146534Z",
          "iopub.status.idle": "2024-03-16T20:02:35.162167Z",
          "shell.execute_reply.started": "2024-03-16T20:02:35.146503Z",
          "shell.execute_reply": "2024-03-16T20:02:35.161232Z"
        },
        "trusted": true
      },
      "execution_count": null,
      "outputs": []
    },
    {
      "cell_type": "code",
      "source": [
        "!yolo task=detect mode=predict model=/kaggle/working/runs/detect/train/weights/best.pt imgsz=640 conf=0.5 \\\n",
        "source=/kaggle/working/Money-3/test/images"
      ],
      "metadata": {
        "id": "G3gFvM_OIKWx",
        "execution": {
          "iopub.status.busy": "2024-03-16T20:03:31.732006Z",
          "iopub.execute_input": "2024-03-16T20:03:31.732877Z",
          "iopub.status.idle": "2024-03-16T20:03:43.710842Z",
          "shell.execute_reply.started": "2024-03-16T20:03:31.732843Z",
          "shell.execute_reply": "2024-03-16T20:03:43.709696Z"
        },
        "trusted": true
      },
      "execution_count": null,
      "outputs": []
    },
    {
      "cell_type": "code",
      "source": [
        "# Display inference on ALL test images\n",
        "import glob\n",
        "from IPython.display import Image, display\n",
        "i = 0\n",
        "for imageName in glob.glob(\"/kaggle/working/runs/detect/predict/*.jpg\"): #assuming JPG\n",
        "    if i %15 ==0 :\n",
        "        print(\"\\n\")\n",
        "        display(Image(filename=imageName))\n",
        "    i = i +1\n",
        "\n"
      ],
      "metadata": {
        "id": "KBRTtfGWIKZh",
        "execution": {
          "iopub.status.busy": "2024-03-16T20:04:04.313880Z",
          "iopub.execute_input": "2024-03-16T20:04:04.314691Z",
          "iopub.status.idle": "2024-03-16T20:04:04.344325Z",
          "shell.execute_reply.started": "2024-03-16T20:04:04.314655Z",
          "shell.execute_reply": "2024-03-16T20:04:04.343438Z"
        },
        "trusted": true
      },
      "execution_count": null,
      "outputs": []
    },
    {
      "cell_type": "code",
      "source": [],
      "metadata": {
        "id": "qJWMwNi9_IEd"
      },
      "execution_count": null,
      "outputs": []
    }
  ]
}